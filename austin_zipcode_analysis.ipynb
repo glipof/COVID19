{
 "cells": [
  {
   "cell_type": "markdown",
   "metadata": {},
   "source": [
    "<h1 align=center><font size = 5>COVID-19: Case Analysis by Austin Zip Code</font></h1>"
   ]
  },
  {
   "cell_type": "markdown",
   "metadata": {},
   "source": [
    "## Introduction\n",
    "\n",
    "The Austin Public Health website regularly publishes the number of new confirmed cases by zip code. Unfortunately, this data is not presented over time, nor is the cumulative data by zip code available. So, I have manually scraped a few resources, as they were represented visually in a map, from news websites for data before Memorial Day Weekend, a couple of weeks after and at the end of June. This data is part of a file I created and is uploaded to my repository, named \"COVID19_Cases_By_ZipCode.csv\".\n",
    "\n",
    "I'm interested in seeing how the data changes over time and if there are noticeable anomalies from one zip code to the other. Unfortunately, I was unable to find demographic data, such as age, for these cases or mortality/ recovered numbers.\n",
    "\n",
    "## Data Wrangling\n",
    "\n",
    "As the CSV is manually generated, my first set of steps is to read the data and conduct some basic visualization."
   ]
  },
  {
   "cell_type": "code",
   "execution_count": 1,
   "metadata": {},
   "outputs": [
    {
     "name": "stdout",
     "output_type": "stream",
     "text": [
      "pandas=1.0.4\n",
      "numpy=1.18.5\n"
     ]
    }
   ],
   "source": [
    "# Import Libraries\n",
    "\n",
    "import pandas as pd\n",
    "import numpy as np\n",
    "import matplotlib.pyplot as plt\n",
    "\n",
    "print('pandas={}'.format(pd.__version__))\n",
    "print('numpy={}'.format(np.__version__))"
   ]
  },
  {
   "cell_type": "code",
   "execution_count": 2,
   "metadata": {},
   "outputs": [
    {
     "data": {
      "text/html": [
       "<div>\n",
       "<style scoped>\n",
       "    .dataframe tbody tr th:only-of-type {\n",
       "        vertical-align: middle;\n",
       "    }\n",
       "\n",
       "    .dataframe tbody tr th {\n",
       "        vertical-align: top;\n",
       "    }\n",
       "\n",
       "    .dataframe thead th {\n",
       "        text-align: right;\n",
       "    }\n",
       "</style>\n",
       "<table border=\"1\" class=\"dataframe\">\n",
       "  <thead>\n",
       "    <tr style=\"text-align: right;\">\n",
       "      <th></th>\n",
       "      <th>Zip Code</th>\n",
       "      <th>5/23/20</th>\n",
       "      <th>6/9/20</th>\n",
       "      <th>6/30/20</th>\n",
       "    </tr>\n",
       "  </thead>\n",
       "  <tbody>\n",
       "    <tr>\n",
       "      <th>0</th>\n",
       "      <td>78701</td>\n",
       "      <td>39</td>\n",
       "      <td>49</td>\n",
       "      <td>121</td>\n",
       "    </tr>\n",
       "    <tr>\n",
       "      <th>1</th>\n",
       "      <td>78702</td>\n",
       "      <td>40</td>\n",
       "      <td>59</td>\n",
       "      <td>225</td>\n",
       "    </tr>\n",
       "    <tr>\n",
       "      <th>2</th>\n",
       "      <td>78703</td>\n",
       "      <td>43</td>\n",
       "      <td>46</td>\n",
       "      <td>108</td>\n",
       "    </tr>\n",
       "    <tr>\n",
       "      <th>3</th>\n",
       "      <td>78704</td>\n",
       "      <td>109</td>\n",
       "      <td>148</td>\n",
       "      <td>347</td>\n",
       "    </tr>\n",
       "    <tr>\n",
       "      <th>4</th>\n",
       "      <td>78705</td>\n",
       "      <td>62</td>\n",
       "      <td>68</td>\n",
       "      <td>161</td>\n",
       "    </tr>\n",
       "  </tbody>\n",
       "</table>\n",
       "</div>"
      ],
      "text/plain": [
       "   Zip Code  5/23/20  6/9/20  6/30/20\n",
       "0     78701       39      49      121\n",
       "1     78702       40      59      225\n",
       "2     78703       43      46      108\n",
       "3     78704      109     148      347\n",
       "4     78705       62      68      161"
      ]
     },
     "execution_count": 2,
     "metadata": {},
     "output_type": "execute_result"
    }
   ],
   "source": [
    "# Create Dataframe from CSV file\n",
    "\n",
    "filename = \"COVID19_Cases_By_ZipCode.csv\"\n",
    "df_aus = pd.read_csv(filename)\n",
    "\n",
    "df_aus.head(5)"
   ]
  },
  {
   "cell_type": "code",
   "execution_count": 3,
   "metadata": {},
   "outputs": [
    {
     "data": {
      "image/png": "[encoded data removed]",
      "text/plain": [
       "<Figure size 1152x576 with 1 Axes>"
      ]
     },
     "metadata": {
      "needs_background": "light"
     },
     "output_type": "display_data"
    }
   ],
   "source": [
    "# Create Comparison Bar Chart\n",
    "\n",
    "index = np.arange(40)\n",
    "bar_width = 0.25\n",
    "\n",
    "fig, ax = plt.subplots(figsize = (16,8))\n",
    "bar1 = ax.bar(index, df_aus[\"5/23/20\"].values, bar_width, label=\"May\")\n",
    "bar2 = ax.bar(index+bar_width, df_aus[\"6/9/20\"].values, bar_width, label=\"Mid-June\")\n",
    "bar3 = ax.bar(index+bar_width+bar_width, df_aus[\"6/30/20\"].values, bar_width, label=\"End-June\")\n",
    "\n",
    "ax.set_xlabel('Zip Code')\n",
    "ax.set_ylabel('Confirmed Cases')\n",
    "ax.set_title('COVID-19 Cases By Austin Zip Code')\n",
    "ax.set_xticks(index + bar_width / 2)\n",
    "ax.set_xticklabels(df_aus.index)\n",
    "ax.legend()\n",
    "\n",
    "plt.show()"
   ]
  },
  {
   "cell_type": "markdown",
   "metadata": {},
   "source": [
    "## Initial Thoughts and Specialized Visualization\n",
    "\n",
    "With a dataset containing 40 zip codes, visualizing them together is difficult to truly understand which zip codes truly stand out. So, the next step is to visualize using a smaller dataset. Below are the next set of tasks:\n",
    "\n",
    "<ul><li>Reduce dataframe to ten zip codes with the largest confirmed cases and plot\n",
    "    <li>Check if any zip codes fall out of top ten group \n",
    "    <li>Produce choroplethe map highlighting cumulative case differences by zip code\n",
    "</ul>"
   ]
  },
  {
   "cell_type": "code",
   "execution_count": 6,
   "metadata": {},
   "outputs": [
    {
     "data": {
      "text/html": [
       "<div>\n",
       "<style scoped>\n",
       "    .dataframe tbody tr th:only-of-type {\n",
       "        vertical-align: middle;\n",
       "    }\n",
       "\n",
       "    .dataframe tbody tr th {\n",
       "        vertical-align: top;\n",
       "    }\n",
       "\n",
       "    .dataframe thead th {\n",
       "        text-align: right;\n",
       "    }\n",
       "</style>\n",
       "<table border=\"1\" class=\"dataframe\">\n",
       "  <thead>\n",
       "    <tr style=\"text-align: right;\">\n",
       "      <th></th>\n",
       "      <th>Zip Code</th>\n",
       "      <th>5/23/20</th>\n",
       "      <th>6/9/20</th>\n",
       "      <th>6/30/20</th>\n",
       "    </tr>\n",
       "  </thead>\n",
       "  <tbody>\n",
       "    <tr>\n",
       "      <th>3</th>\n",
       "      <td>78704</td>\n",
       "      <td>109</td>\n",
       "      <td>148</td>\n",
       "      <td>347</td>\n",
       "    </tr>\n",
       "    <tr>\n",
       "      <th>8</th>\n",
       "      <td>78723</td>\n",
       "      <td>71</td>\n",
       "      <td>120</td>\n",
       "      <td>271</td>\n",
       "    </tr>\n",
       "    <tr>\n",
       "      <th>9</th>\n",
       "      <td>78724</td>\n",
       "      <td>107</td>\n",
       "      <td>188</td>\n",
       "      <td>397</td>\n",
       "    </tr>\n",
       "    <tr>\n",
       "      <th>23</th>\n",
       "      <td>78741</td>\n",
       "      <td>266</td>\n",
       "      <td>361</td>\n",
       "      <td>759</td>\n",
       "    </tr>\n",
       "    <tr>\n",
       "      <th>25</th>\n",
       "      <td>78744</td>\n",
       "      <td>207</td>\n",
       "      <td>323</td>\n",
       "      <td>742</td>\n",
       "    </tr>\n",
       "  </tbody>\n",
       "</table>\n",
       "</div>"
      ],
      "text/plain": [
       "    Zip Code  5/23/20  6/9/20  6/30/20\n",
       "3      78704      109     148      347\n",
       "8      78723       71     120      271\n",
       "9      78724      107     188      397\n",
       "23     78741      266     361      759\n",
       "25     78744      207     323      742"
      ]
     },
     "execution_count": 6,
     "metadata": {},
     "output_type": "execute_result"
    }
   ],
   "source": [
    "# Create top ten dataframes for each Peroid\n",
    "\n",
    "df_top_may = df_aus.sort_values('5/23/20', ascending=False).head(10)\n",
    "df_top_may = df_top_may.sort_values('Zip Code', ascending=True)\n",
    "\n",
    "df_top_jun = df_aus.sort_values('6/9/20', ascending=False).head(10)\n",
    "df_top_jun = df_top_jun.sort_values('Zip Code', ascending=True)\n",
    "\n",
    "df_top_jul = df_aus.sort_values('6/30/20', ascending=False).head(10)\n",
    "df_top_jul = df_top_jul.sort_values('Zip Code', ascending=True)\n",
    "\n",
    "df_top_jul.head(5)"
   ]
  },
  {
   "cell_type": "code",
   "execution_count": 7,
   "metadata": {},
   "outputs": [
    {
     "data": {
      "text/plain": [
       "array(['True', 'True', 'True', 'True', 'True', 'True', 'True', 'True',\n",
       "       'True', 'True'], dtype='<U5')"
      ]
     },
     "execution_count": 7,
     "metadata": {},
     "output_type": "execute_result"
    }
   ],
   "source": [
    "# Check if top ten Zip Codes are in all dataframes\n",
    "\n",
    "np.where((df_top_may['Zip Code'].values == df_top_jun['Zip Code'].values) & \n",
    "         (df_top_jun['Zip Code'].values == df_top_jul['Zip Code'].values), 'True', 'False')"
   ]
  },
  {
   "cell_type": "code",
   "execution_count": 8,
   "metadata": {},
   "outputs": [
    {
     "data": {
      "image/png": "[encoded data removed]",
      "text/plain": [
       "<Figure size 1152x576 with 1 Axes>"
      ]
     },
     "metadata": {
      "needs_background": "light"
     },
     "output_type": "display_data"
    }
   ],
   "source": [
    "# Create Comparison Bar Chart\n",
    "\n",
    "index = np.arange(10)\n",
    "bar_width = 0.25\n",
    "\n",
    "fig, ax = plt.subplots(figsize = (16,8))\n",
    "bar1 = ax.bar(index, df_top_jul[\"5/23/20\"].values, bar_width, label=\"May\")\n",
    "bar2 = ax.bar(index+bar_width, df_top_jul[\"6/9/20\"].values, bar_width, label=\"Mid-June\")\n",
    "bar3 = ax.bar(index+bar_width+bar_width, df_top_jul[\"6/30/20\"].values, bar_width, label=\"End-June\")\n",
    "\n",
    "ax.set_xlabel('Zip Code')\n",
    "ax.set_ylabel('Confirmed Cases')\n",
    "ax.set_title('COVID-19 Cases By Austin Zip Code')\n",
    "ax.set_xticks(index + bar_width / 2)\n",
    "ax.set_xticklabels(df_top_jul['Zip Code'])\n",
    "ax.legend()\n",
    "\n",
    "plt.show()"
   ]
  },
  {
   "cell_type": "code",
   "execution_count": 9,
   "metadata": {},
   "outputs": [
    {
     "data": {
      "text/html": [
       "<div>\n",
       "<style scoped>\n",
       "    .dataframe tbody tr th:only-of-type {\n",
       "        vertical-align: middle;\n",
       "    }\n",
       "\n",
       "    .dataframe tbody tr th {\n",
       "        vertical-align: top;\n",
       "    }\n",
       "\n",
       "    .dataframe thead th {\n",
       "        text-align: right;\n",
       "    }\n",
       "</style>\n",
       "<table border=\"1\" class=\"dataframe\">\n",
       "  <thead>\n",
       "    <tr style=\"text-align: right;\">\n",
       "      <th></th>\n",
       "      <th>Zip Code</th>\n",
       "      <th>Cases</th>\n",
       "    </tr>\n",
       "  </thead>\n",
       "  <tbody>\n",
       "    <tr>\n",
       "      <th>23</th>\n",
       "      <td>23</td>\n",
       "      <td>80127</td>\n",
       "    </tr>\n",
       "    <tr>\n",
       "      <th>25</th>\n",
       "      <td>25</td>\n",
       "      <td>80016</td>\n",
       "    </tr>\n",
       "    <tr>\n",
       "      <th>34</th>\n",
       "      <td>34</td>\n",
       "      <td>79978</td>\n",
       "    </tr>\n",
       "    <tr>\n",
       "      <th>38</th>\n",
       "      <td>38</td>\n",
       "      <td>79782</td>\n",
       "    </tr>\n",
       "    <tr>\n",
       "      <th>29</th>\n",
       "      <td>29</td>\n",
       "      <td>79559</td>\n",
       "    </tr>\n",
       "  </tbody>\n",
       "</table>\n",
       "</div>"
      ],
      "text/plain": [
       "    Zip Code  Cases\n",
       "23        23  80127\n",
       "25        25  80016\n",
       "34        34  79978\n",
       "38        38  79782\n",
       "29        29  79559"
      ]
     },
     "execution_count": 9,
     "metadata": {},
     "output_type": "execute_result"
    }
   ],
   "source": [
    "# Create top ten dataframe based on Sum\n",
    "\n",
    "df_sum = df_aus.sum(axis=1).reset_index()\n",
    "df_sum.columns = ['Zip Code', 'Cases']\n",
    "\n",
    "df_top_sum = df_sum.sort_values('Cases', ascending=False).head(10)\n",
    "df_top_sum.head(5)"
   ]
  },
  {
   "cell_type": "code",
   "execution_count": 31,
   "metadata": {},
   "outputs": [
    {
     "name": "stdout",
     "output_type": "stream",
     "text": [
      "Folium and JSON imported\n"
     ]
    }
   ],
   "source": [
    "# Load Libraries for Choropleth Mapping for Cases by Zip Code\n",
    "\n",
    "import folium as folium\n",
    "from folium import plugins\n",
    "import json\n",
    "\n",
    "print('Folium and JSON imported')"
   ]
  },
  {
   "cell_type": "code",
   "execution_count": 71,
   "metadata": {},
   "outputs": [
    {
     "ename": "AttributeError",
     "evalue": "module 'folium' has no attribute 'GeoJsonTooltip'",
     "output_type": "error",
     "traceback": [
      "\u001b[0;31m---------------------------------------------------------------------------\u001b[0m",
      "\u001b[0;31mAttributeError\u001b[0m                            Traceback (most recent call last)",
      "\u001b[0;32m<ipython-input-71-ffde36c49e3e>\u001b[0m in \u001b[0;36m<module>\u001b[0;34m\u001b[0m\n\u001b[1;32m     23\u001b[0m \u001b[0;34m\u001b[0m\u001b[0m\n\u001b[1;32m     24\u001b[0m aus_map.add_child(\n\u001b[0;32m---> 25\u001b[0;31m     folium.GeoJsonTooltip(['Zip Code', 'Cases'], labels = True))\n\u001b[0m\u001b[1;32m     26\u001b[0m \u001b[0;34m\u001b[0m\u001b[0m\n\u001b[1;32m     27\u001b[0m \u001b[0mfolium\u001b[0m\u001b[0;34m.\u001b[0m\u001b[0mLayerControl\u001b[0m\u001b[0;34m(\u001b[0m\u001b[0mcollapsed\u001b[0m\u001b[0;34m=\u001b[0m\u001b[0;32mTrue\u001b[0m\u001b[0;34m)\u001b[0m\u001b[0;34m.\u001b[0m\u001b[0madd_to\u001b[0m\u001b[0;34m(\u001b[0m\u001b[0maus_map\u001b[0m\u001b[0;34m)\u001b[0m\u001b[0;34m\u001b[0m\u001b[0;34m\u001b[0m\u001b[0m\n",
      "\u001b[0;31mAttributeError\u001b[0m: module 'folium' has no attribute 'GeoJsonTooltip'"
     ]
    }
   ],
   "source": [
    "# Generate Choropleth Map\n",
    "\n",
    "# Read GeoJSON File\n",
    "aus_geo = r'austin_area_zip_codes.geojson'\n",
    "\n",
    "# Convert Zip Code column to string\n",
    "df_aus[['Zip Code']] = df_aus[['Zip Code']].astype(str)\n",
    "\n",
    "# Setup Map\n",
    "aus_map = folium.Map([30.26759, -97.74299], zoom_start=11)\n",
    "\n",
    "aus_map.choropleth(\n",
    "    geo_data = aus_geo,\n",
    "    fill_opacity = 0.8,\n",
    "    line_opacity = 0.2,\n",
    "    data = df_aus,\n",
    "    columns = ['Zip Code', '6/30/20'],\n",
    "    key_on = 'feature.properties.zipcode',\n",
    "    fill_color = 'BuGn',\n",
    "    legend_name = 'Confirmed COVID-19 Cases by Zip Code, 06/30/2020',\n",
    "    highlight = True\n",
    ")\n",
    "\n",
    "aus_map.add_child(\n",
    "    folium.features.GeoJsonTooltip(['Zip Code', 'Cases'], labels = True))\n",
    "\n",
    "folium.LayerControl(collapsed=True).add_to(aus_map)\n",
    "\n",
    "# Display Map\n",
    "aus_map"
   ]
  },
  {
   "cell_type": "code",
   "execution_count": null,
   "metadata": {},
   "outputs": [],
   "source": []
  }
 ],
 "metadata": {
  "kernelspec": {
   "display_name": "Python",
   "language": "python",
   "name": "conda-env-python-py"
  },
  "language_info": {
   "codemirror_mode": {
    "name": "ipython",
    "version": 3
   },
   "file_extension": ".py",
   "mimetype": "text/x-python",
   "name": "python",
   "nbconvert_exporter": "python",
   "pygments_lexer": "ipython3",
   "version": "3.6.10"
  }
 },
 "nbformat": 4,
 "nbformat_minor": 4
}
